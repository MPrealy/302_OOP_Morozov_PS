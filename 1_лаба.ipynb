{
  "nbformat": 4,
  "nbformat_minor": 0,
  "metadata": {
    "colab": {
      "provenance": [],
      "include_colab_link": true
    },
    "kernelspec": {
      "name": "python3",
      "display_name": "Python 3"
    },
    "language_info": {
      "name": "python"
    }
  },
  "cells": [
    {
      "cell_type": "markdown",
      "metadata": {
        "id": "view-in-github",
        "colab_type": "text"
      },
      "source": [
        "<a href=\"https://colab.research.google.com/github/MPrealy/302_OOP_Morozov_PS/blob/master/1_%D0%BB%D0%B0%D0%B1%D0%B0.ipynb\" target=\"_parent\"><img src=\"https://colab.research.google.com/assets/colab-badge.svg\" alt=\"Open In Colab\"/></a>"
      ]
    },
    {
      "cell_type": "code",
      "execution_count": 1,
      "metadata": {
        "colab": {
          "base_uri": "https://localhost:8080/"
        },
        "id": "pa94U1BjCe7z",
        "outputId": "7866fa75-826c-4449-afc3-9118fce95f68"
      },
      "outputs": [
        {
          "output_type": "stream",
          "name": "stdout",
          "text": [
            "Mounted at /content/drive\n"
          ]
        }
      ],
      "source": [
        "from google.colab import drive\n",
        "drive.mount('/content/drive')"
      ]
    },
    {
      "cell_type": "code",
      "source": [
        "cd /content/drive/MyDrive/Colab Notebooks"
      ],
      "metadata": {
        "colab": {
          "base_uri": "https://localhost:8080/"
        },
        "id": "mZhd6S_UCmJ6",
        "outputId": "783ba5b5-360e-4a50-853c-1a101b9dc292"
      },
      "execution_count": 2,
      "outputs": [
        {
          "output_type": "stream",
          "name": "stdout",
          "text": [
            "/content/drive/MyDrive/Colab Notebooks\n"
          ]
        }
      ]
    },
    {
      "cell_type": "markdown",
      "source": [
        "3.1"
      ],
      "metadata": {
        "id": "7scZw0bwEzxM"
      }
    },
    {
      "cell_type": "code",
      "source": [
        "%%file primer_1.cpp\n",
        "\n",
        "#include <iostream>\n",
        "#include<omp.h>\n",
        "#include<stdio.h>\n",
        "\n",
        "int main () {\n",
        "    int size, rank;\n",
        "\n",
        "    /* Создание множества параллельных процессов и в каждом из них задаются\n",
        "    * свои приватные переменные size и rank */\n",
        "\n",
        "    #pragma omp parallel private(size, rank)\n",
        "    {\n",
        "        /* Каждый процесс находит свой порядковый номер и выводит его на экран */\n",
        "\n",
        "        rank = omp_get_thread_num();\n",
        "        printf(\"Hello World from thread = %d\\n\", rank);\n",
        "\n",
        "        /* Главный процесс - master выводит на экран количество процессов */\n",
        "\n",
        "        if (rank == 0) {\n",
        "            size = omp_get_num_threads();\n",
        "            printf(\"Number of threads = %d\\n\", size);\n",
        "        }\n",
        "\n",
        "    } /* Завершение параллельной части */\n",
        "\n",
        "    return 0;\n",
        "}"
      ],
      "metadata": {
        "colab": {
          "base_uri": "https://localhost:8080/"
        },
        "id": "A1IoAU-rC6yG",
        "outputId": "7aa2e812-67a5-41f4-bb75-c41ded6a9e9d"
      },
      "execution_count": 3,
      "outputs": [
        {
          "output_type": "stream",
          "name": "stdout",
          "text": [
            "Writing primer_1.cpp\n"
          ]
        }
      ]
    },
    {
      "cell_type": "code",
      "source": [
        "!g++ primer_1.cpp -fopenmp -o primer_1"
      ],
      "metadata": {
        "id": "IhN7HKxPEWVn"
      },
      "execution_count": 5,
      "outputs": []
    },
    {
      "cell_type": "code",
      "source": [
        "!./primer_1"
      ],
      "metadata": {
        "colab": {
          "base_uri": "https://localhost:8080/"
        },
        "id": "CJE65VDBEXDy",
        "outputId": "1f93dae5-6835-48e9-c67b-e3bc80f21b06"
      },
      "execution_count": 6,
      "outputs": [
        {
          "output_type": "stream",
          "name": "stdout",
          "text": [
            "Hello World from thread = 1\n",
            "Hello World from thread = 0\n",
            "Number of threads = 2\n"
          ]
        }
      ]
    },
    {
      "cell_type": "markdown",
      "source": [
        "3.2"
      ],
      "metadata": {
        "id": "Mw7ydw09E_9I"
      }
    },
    {
      "cell_type": "code",
      "source": [
        "%%file primer_2.cpp\n",
        "\n",
        "#include <iostream>\n",
        "#include<omp.h>\n",
        "#include<stdio.h>\n",
        "\n",
        "int main () {\n",
        "    int i, n;\n",
        "    float a[100], b[100], sum;\n",
        "\n",
        "    /* Инициализация элементов векторов */\n",
        "\n",
        "    n = 100;\n",
        "    for (i=0; i < n; i++)\n",
        "        a[i] = b[i] = i * 1.0;\n",
        "    sum = 0.0;\n",
        "\n",
        "    /* Создание множества параллельных процессов и распараллеливание\n",
        "    * цикла по виткам. При выходе из цикла все значения переменной sum\n",
        "    * суммируются по всем процессам. */\n",
        "\n",
        "    #pragma omp parallel for reduction(+:sum)\n",
        "    for (i=0; i < n; i++)\n",
        "        sum = sum + (a[i] * b[i]);\n",
        "\n",
        "    /* Главный процесс выводит на экран значение sum */\n",
        "\n",
        "    printf(\" Sum = %f\\n\",sum);\n",
        "\n",
        "    return 0;\n",
        "}"
      ],
      "metadata": {
        "colab": {
          "base_uri": "https://localhost:8080/"
        },
        "id": "_PYKc_g9FFP8",
        "outputId": "c810b73a-f30e-4c25-f58a-013ef72957f6"
      },
      "execution_count": 7,
      "outputs": [
        {
          "output_type": "stream",
          "name": "stdout",
          "text": [
            "Writing primer_2.cpp\n"
          ]
        }
      ]
    },
    {
      "cell_type": "code",
      "source": [
        "!g++ primer_2.cpp -fopenmp -o primer_2"
      ],
      "metadata": {
        "id": "uLCeo_PaFLjP"
      },
      "execution_count": 8,
      "outputs": []
    },
    {
      "cell_type": "code",
      "source": [
        "!./primer_2"
      ],
      "metadata": {
        "colab": {
          "base_uri": "https://localhost:8080/"
        },
        "id": "U8VZSKI4FMNV",
        "outputId": "6c897f47-767c-4617-d65c-5d727b54fd04"
      },
      "execution_count": 9,
      "outputs": [
        {
          "output_type": "stream",
          "name": "stdout",
          "text": [
            " Sum = 328350.000000\n"
          ]
        }
      ]
    },
    {
      "cell_type": "markdown",
      "source": [
        "3.3"
      ],
      "metadata": {
        "id": "Z_lOgbh7FTBg"
      }
    },
    {
      "cell_type": "code",
      "source": [
        "%%file primer_3.cpp\n",
        "\n",
        "#include <iostream>\n",
        "#include<omp.h>\n",
        "#include<stdio.h>\n",
        "\n",
        "#define VECLEN 100\n",
        "float a[VECLEN], b[VECLEN], sum;\n",
        "\n",
        "/* Подпрограмма, в которой суммируются элементы векторов */\n",
        "\n",
        "float dotprod () {\n",
        "    int i,rank;\n",
        "    rank = omp_get_thread_num();\n",
        "    #pragma omp for reduction(+:sum)\n",
        "    for (i=0; i < VECLEN; i++) {\n",
        "        sum = sum + (a[i]*b[i]);\n",
        "        printf(\" rank = %d i=%d\\n\",rank,i);\n",
        "    }\n",
        "    return(sum);\n",
        "}\n",
        "\n",
        "int main () {\n",
        "  int i;\n",
        "\n",
        "  /* Инициализация элементов векторов */\n",
        "\n",
        "  for (i=0; i < VECLEN; i++)\n",
        "      a[i] = b[i] = 1.0 * i;\n",
        "  sum = 0.0;\n",
        "\n",
        "  /* Создание множества параллельных процессов */\n",
        "\n",
        "  #pragma omp parallel\n",
        "  sum = dotprod();\n",
        "  printf(\"Sum = %f\\n\",sum);\n",
        "\n",
        "  return 0;\n",
        "}"
      ],
      "metadata": {
        "colab": {
          "base_uri": "https://localhost:8080/"
        },
        "id": "z80ZnqW-FUVs",
        "outputId": "756f6d07-9197-4000-a474-cadc0a3b0dd3"
      },
      "execution_count": 10,
      "outputs": [
        {
          "output_type": "stream",
          "name": "stdout",
          "text": [
            "Overwriting primer_3.cpp\n"
          ]
        }
      ]
    },
    {
      "cell_type": "code",
      "source": [
        "!g++ primer_3.cpp -fopenmp -o primer_3"
      ],
      "metadata": {
        "id": "-r6my4VMFXer"
      },
      "execution_count": 11,
      "outputs": []
    },
    {
      "cell_type": "code",
      "source": [
        "!./primer_3"
      ],
      "metadata": {
        "colab": {
          "base_uri": "https://localhost:8080/"
        },
        "id": "emqxeaY5FZpE",
        "outputId": "98161ca3-f6d4-4d0e-a2b3-22e2e98833c3"
      },
      "execution_count": 12,
      "outputs": [
        {
          "output_type": "stream",
          "name": "stdout",
          "text": [
            " rank = 1 i=50\n",
            " rank = 1 i=51\n",
            " rank = 1 i=52\n",
            " rank = 1 i=53\n",
            " rank = 1 i=54\n",
            " rank = 1 i=55\n",
            " rank = 1 i=56\n",
            " rank = 1 i=57\n",
            " rank = 1 i=58\n",
            " rank = 1 i=59\n",
            " rank = 1 i=60\n",
            " rank = 1 i=61\n",
            " rank = 1 i=62\n",
            " rank = 1 i=63\n",
            " rank = 1 i=64\n",
            " rank = 1 i=65\n",
            " rank = 1 i=66\n",
            " rank = 1 i=67\n",
            " rank = 1 i=68\n",
            " rank = 1 i=69\n",
            " rank = 1 i=70\n",
            " rank = 1 i=71\n",
            " rank = 1 i=72\n",
            " rank = 1 i=73\n",
            " rank = 1 i=74\n",
            " rank = 1 i=75\n",
            " rank = 1 i=76\n",
            " rank = 1 i=77\n",
            " rank = 1 i=78\n",
            " rank = 1 i=79\n",
            " rank = 1 i=80\n",
            " rank = 1 i=81\n",
            " rank = 1 i=82\n",
            " rank = 1 i=83\n",
            " rank = 1 i=84\n",
            " rank = 1 i=85\n",
            " rank = 1 i=86\n",
            " rank = 1 i=87\n",
            " rank = 1 i=88\n",
            " rank = 1 i=89\n",
            " rank = 1 i=90\n",
            " rank = 1 i=91\n",
            " rank = 1 i=92\n",
            " rank = 1 i=93\n",
            " rank = 1 i=94\n",
            " rank = 1 i=95\n",
            " rank = 1 i=96\n",
            " rank = 1 i=97\n",
            " rank = 1 i=98\n",
            " rank = 1 i=99\n",
            " rank = 0 i=0\n",
            " rank = 0 i=1\n",
            " rank = 0 i=2\n",
            " rank = 0 i=3\n",
            " rank = 0 i=4\n",
            " rank = 0 i=5\n",
            " rank = 0 i=6\n",
            " rank = 0 i=7\n",
            " rank = 0 i=8\n",
            " rank = 0 i=9\n",
            " rank = 0 i=10\n",
            " rank = 0 i=11\n",
            " rank = 0 i=12\n",
            " rank = 0 i=13\n",
            " rank = 0 i=14\n",
            " rank = 0 i=15\n",
            " rank = 0 i=16\n",
            " rank = 0 i=17\n",
            " rank = 0 i=18\n",
            " rank = 0 i=19\n",
            " rank = 0 i=20\n",
            " rank = 0 i=21\n",
            " rank = 0 i=22\n",
            " rank = 0 i=23\n",
            " rank = 0 i=24\n",
            " rank = 0 i=25\n",
            " rank = 0 i=26\n",
            " rank = 0 i=27\n",
            " rank = 0 i=28\n",
            " rank = 0 i=29\n",
            " rank = 0 i=30\n",
            " rank = 0 i=31\n",
            " rank = 0 i=32\n",
            " rank = 0 i=33\n",
            " rank = 0 i=34\n",
            " rank = 0 i=35\n",
            " rank = 0 i=36\n",
            " rank = 0 i=37\n",
            " rank = 0 i=38\n",
            " rank = 0 i=39\n",
            " rank = 0 i=40\n",
            " rank = 0 i=41\n",
            " rank = 0 i=42\n",
            " rank = 0 i=43\n",
            " rank = 0 i=44\n",
            " rank = 0 i=45\n",
            " rank = 0 i=46\n",
            " rank = 0 i=47\n",
            " rank = 0 i=48\n",
            " rank = 0 i=49\n",
            "Sum = 328350.000000\n"
          ]
        }
      ]
    },
    {
      "cell_type": "markdown",
      "source": [
        "3.4"
      ],
      "metadata": {
        "id": "JlO5j0twFfS5"
      }
    },
    {
      "cell_type": "code",
      "source": [
        "%%file primer_4.cpp\n",
        "\n",
        "#include <iostream>\n",
        "#include<omp.h>\n",
        "#include<stdio.h>\n",
        "\n",
        "#define N 50\n",
        "int main () {\n",
        "    int i, size, rank;\n",
        "    float a[N], b[N], c[N];\n",
        "\n",
        "    /* Инициализация элементов векторов */\n",
        "\n",
        "    for (i=0; i < N; i++)\n",
        "        a[i] = b[i] = i * 1.0;\n",
        "\n",
        "    /* Создание множества параллельных процессов */\n",
        "\n",
        "    #pragma omp parallel shared(a,b,c) private(i,rank,size)\n",
        "    {\n",
        "        /* Каждый процесс находит свой порядковый номер и выводит его на экран */\n",
        "\n",
        "        rank = omp_get_thread_num();\n",
        "        printf(\"Thread %d starting...\\n\",rank);\n",
        "\n",
        "        /* Директива задания секций */\n",
        "\n",
        "        #pragma omp sections nowait\n",
        "        {\n",
        "            /* Секция 0*/\n",
        "\n",
        "            #pragma omp section\n",
        "            for (i=0; i < N/2; i++) {\n",
        "                c[i] = a[i] + b[i];\n",
        "                printf(\"rank = %d i= %d c[i]= %f\\n\", rank,i,c[i]);\n",
        "            }\n",
        "\n",
        "            /* Секция 1*/\n",
        "\n",
        "            #pragma omp section\n",
        "            for (i=N/2; i < N; i++) {\n",
        "                c[i] = a[i] + b[i];\n",
        "                printf(\"rank = %d i= %d c[i]= %f\\n\", rank,i,c[i]);\n",
        "            }\n",
        "\n",
        "        } /* Завершение блока секций */\n",
        "\n",
        "        if (rank == 0) {\n",
        "          size = omp_get_num_threads();\n",
        "          printf(\"Number of threads = %d\\n\", size);\n",
        "        }\n",
        "\n",
        "    } /* Завершение параллельной части */\n",
        "\n",
        "    return 0;\n",
        "}"
      ],
      "metadata": {
        "colab": {
          "base_uri": "https://localhost:8080/"
        },
        "id": "3GyRPDUkFgjH",
        "outputId": "ee98f631-8a45-4056-ec05-20705fd6ed31"
      },
      "execution_count": 13,
      "outputs": [
        {
          "output_type": "stream",
          "name": "stdout",
          "text": [
            "Writing primer_4.cpp\n"
          ]
        }
      ]
    },
    {
      "cell_type": "code",
      "source": [
        "!g++ primer_4.cpp -fopenmp -o primer_4"
      ],
      "metadata": {
        "id": "mi9Euas7FvOS"
      },
      "execution_count": 14,
      "outputs": []
    },
    {
      "cell_type": "code",
      "source": [
        "!./primer_4"
      ],
      "metadata": {
        "colab": {
          "base_uri": "https://localhost:8080/"
        },
        "id": "NGCE4RfHFyWT",
        "outputId": "c2e544be-1cf9-49f4-e957-ef7ed6078158"
      },
      "execution_count": 15,
      "outputs": [
        {
          "output_type": "stream",
          "name": "stdout",
          "text": [
            "Thread 0 starting...\n",
            "rank = 0 i= 0 c[i]= 0.000000\n",
            "rank = 0 i= 1 c[i]= 2.000000\n",
            "rank = 0 i= 2 c[i]= 4.000000\n",
            "rank = 0 i= 3 c[i]= 6.000000\n",
            "rank = 0 i= 4 c[i]= 8.000000\n",
            "rank = 0 i= 5 c[i]= 10.000000\n",
            "rank = 0 i= 6 c[i]= 12.000000\n",
            "rank = 0 i= 7 c[i]= 14.000000\n",
            "rank = 0 i= 8 c[i]= 16.000000\n",
            "rank = 0 i= 9 c[i]= 18.000000\n",
            "rank = 0 i= 10 c[i]= 20.000000\n",
            "rank = 0 i= 11 c[i]= 22.000000\n",
            "rank = 0 i= 12 c[i]= 24.000000\n",
            "rank = 0 i= 13 c[i]= 26.000000\n",
            "rank = 0 i= 14 c[i]= 28.000000\n",
            "rank = 0 i= 15 c[i]= 30.000000\n",
            "rank = 0 i= 16 c[i]= 32.000000\n",
            "rank = 0 i= 17 c[i]= 34.000000\n",
            "rank = 0 i= 18 c[i]= 36.000000\n",
            "rank = 0 i= 19 c[i]= 38.000000\n",
            "rank = 0 i= 20 c[i]= 40.000000\n",
            "rank = 0 i= 21 c[i]= 42.000000\n",
            "rank = 0 i= 22 c[i]= 44.000000\n",
            "rank = 0 i= 23 c[i]= 46.000000\n",
            "rank = 0 i= 24 c[i]= 48.000000\n",
            "rank = 0 i= 25 c[i]= 50.000000\n",
            "rank = 0 i= 26 c[i]= 52.000000\n",
            "rank = 0 i= 27 c[i]= 54.000000\n",
            "rank = 0 i= 28 c[i]= 56.000000\n",
            "rank = 0 i= 29 c[i]= 58.000000\n",
            "rank = 0 i= 30 c[i]= 60.000000\n",
            "rank = 0 i= 31 c[i]= 62.000000\n",
            "rank = 0 i= 32 c[i]= 64.000000\n",
            "rank = 0 i= 33 c[i]= 66.000000\n",
            "rank = 0 i= 34 c[i]= 68.000000\n",
            "rank = 0 i= 35 c[i]= 70.000000\n",
            "rank = 0 i= 36 c[i]= 72.000000\n",
            "rank = 0 i= 37 c[i]= 74.000000\n",
            "rank = 0 i= 38 c[i]= 76.000000\n",
            "rank = 0 i= 39 c[i]= 78.000000\n",
            "rank = 0 i= 40 c[i]= 80.000000\n",
            "rank = 0 i= 41 c[i]= 82.000000\n",
            "rank = 0 i= 42 c[i]= 84.000000\n",
            "rank = 0 i= 43 c[i]= 86.000000\n",
            "rank = 0 i= 44 c[i]= 88.000000\n",
            "rank = 0 i= 45 c[i]= 90.000000\n",
            "rank = 0 i= 46 c[i]= 92.000000\n",
            "rank = 0 i= 47 c[i]= 94.000000\n",
            "rank = 0 i= 48 c[i]= 96.000000\n",
            "rank = 0 i= 49 c[i]= 98.000000\n",
            "Number of threads = 2\n",
            "Thread 1 starting...\n"
          ]
        }
      ]
    },
    {
      "cell_type": "markdown",
      "source": [
        "3.5"
      ],
      "metadata": {
        "id": "ZWC-As_aF3Qt"
      }
    },
    {
      "cell_type": "code",
      "source": [
        "%%file primer_5.cpp\n",
        "\n",
        "#include <iostream>\n",
        "#include<omp.h>\n",
        "#include<stdio.h>\n",
        "\n",
        "#define M 10\n",
        "int main () {\n",
        "    float A[M][M], b[M], c[M];\n",
        "    int i, j, rank;\n",
        "\n",
        "    /* Инициализация данных */\n",
        "\n",
        "    for (i=0; i < M; i++) {\n",
        "        for (j=0; j < M; j++)\n",
        "            A[i][j] = (j+1) * 1.0;\n",
        "        b[i] = 1.0 * (i+1);\n",
        "        c[i] = 0.0;\n",
        "    }\n",
        "\n",
        "    printf(\"Вывод значений матрицы A и вектора b на экран:\\n\");\n",
        "\n",
        "    for (i=0; i < M; i++) {\n",
        "        printf(\" A[%d]=\",i);\n",
        "        for (j=0; j < M; j++)\n",
        "            printf(\"%.1f \",A[i][j]);\n",
        "        printf(\" b[%d]=%.1f\\n\",i,b[i]);\n",
        "    }\n",
        "\n",
        "    /* Создание множества параллельных процессов и в каждом из них задаются\n",
        "    * свои приватные переменные rank и i*/\n",
        "\n",
        "    #pragma omp parallel shared(A,b,c) private(rank,i)\n",
        "    {\n",
        "        rank = omp_get_thread_num();\n",
        "\n",
        "        /* Директива распараллеливания цикла по виткам */\n",
        "\n",
        "        #pragma omp for private(j)\n",
        "        for (i=0; i < M; i++) {\n",
        "            for (j=0; j < M; j++)\n",
        "                c[i] += (A[i][j] * b[j]);\n",
        "\n",
        "            /* Каждый процесс выводит свой порядковый номер, значение витка цикла и\n",
        "            * значение результирующего вектора на каждом витке цикла и внутри\n",
        "            * критической секции */\n",
        "\n",
        "            #pragma omp critical\n",
        "            {\n",
        "                printf(\" rank=%d \", rank);\n",
        "                printf(\"i=%d \", i);\n",
        "                printf(\"c[%d]=%.2f\\n\", i, c[i]);\n",
        "            }\n",
        "\n",
        "        } /* Конец параллельного цикла */\n",
        "\n",
        "    } /* Завершение параллельной конструкции */\n",
        "\n",
        "    return 0;\n",
        "}"
      ],
      "metadata": {
        "colab": {
          "base_uri": "https://localhost:8080/"
        },
        "id": "mXhVMZl0F39L",
        "outputId": "dd804344-81ef-4fb1-ebee-90bc90f90084"
      },
      "execution_count": 16,
      "outputs": [
        {
          "output_type": "stream",
          "name": "stdout",
          "text": [
            "Writing primer_5.cpp\n"
          ]
        }
      ]
    },
    {
      "cell_type": "code",
      "source": [
        "!g++ primer_5.cpp -fopenmp -o primer_5"
      ],
      "metadata": {
        "id": "B_2NhPmpF7TW"
      },
      "execution_count": 17,
      "outputs": []
    },
    {
      "cell_type": "code",
      "source": [
        "!./primer_5"
      ],
      "metadata": {
        "colab": {
          "base_uri": "https://localhost:8080/"
        },
        "id": "JPqv0-TUF9Cu",
        "outputId": "fd89ffd7-210f-4627-e3a1-bf14b0a57f87"
      },
      "execution_count": 18,
      "outputs": [
        {
          "output_type": "stream",
          "name": "stdout",
          "text": [
            "Вывод значений матрицы A и вектора b на экран:\n",
            " A[0]=1.0 2.0 3.0 4.0 5.0 6.0 7.0 8.0 9.0 10.0  b[0]=1.0\n",
            " A[1]=1.0 2.0 3.0 4.0 5.0 6.0 7.0 8.0 9.0 10.0  b[1]=2.0\n",
            " A[2]=1.0 2.0 3.0 4.0 5.0 6.0 7.0 8.0 9.0 10.0  b[2]=3.0\n",
            " A[3]=1.0 2.0 3.0 4.0 5.0 6.0 7.0 8.0 9.0 10.0  b[3]=4.0\n",
            " A[4]=1.0 2.0 3.0 4.0 5.0 6.0 7.0 8.0 9.0 10.0  b[4]=5.0\n",
            " A[5]=1.0 2.0 3.0 4.0 5.0 6.0 7.0 8.0 9.0 10.0  b[5]=6.0\n",
            " A[6]=1.0 2.0 3.0 4.0 5.0 6.0 7.0 8.0 9.0 10.0  b[6]=7.0\n",
            " A[7]=1.0 2.0 3.0 4.0 5.0 6.0 7.0 8.0 9.0 10.0  b[7]=8.0\n",
            " A[8]=1.0 2.0 3.0 4.0 5.0 6.0 7.0 8.0 9.0 10.0  b[8]=9.0\n",
            " A[9]=1.0 2.0 3.0 4.0 5.0 6.0 7.0 8.0 9.0 10.0  b[9]=10.0\n",
            " rank=1 i=5 c[5]=385.00\n",
            " rank=1 i=6 c[6]=385.00\n",
            " rank=1 i=7 c[7]=385.00\n",
            " rank=1 i=8 c[8]=385.00\n",
            " rank=1 i=9 c[9]=385.00\n",
            " rank=0 i=0 c[0]=385.00\n",
            " rank=0 i=1 c[1]=385.00\n",
            " rank=0 i=2 c[2]=385.00\n",
            " rank=0 i=3 c[3]=385.00\n",
            " rank=0 i=4 c[4]=385.00\n"
          ]
        }
      ]
    },
    {
      "cell_type": "markdown",
      "source": [
        "Задание 2"
      ],
      "metadata": {
        "id": "ERxCRJwGGeBB"
      }
    },
    {
      "cell_type": "code",
      "source": [
        "%%file lab_1_task2.cpp\n",
        "\n",
        "#include <iostream>\n",
        "#include<omp.h>\n",
        "#include<stdio.h>\n",
        "\n",
        "const int N = 30;\n",
        "double **a, *b, *c;\n",
        "\n",
        "int main() {\n",
        "    int i, j, num_threads, p, n;\n",
        "\n",
        "    a = new double*[N];\n",
        "    b = new double[N];\n",
        "    c = new double[N];\n",
        "\n",
        "    for (i = 0; i < N; i++) {\n",
        "        b[i] = 1;\n",
        "        a[i] = new double[N];\n",
        "        for (j = 0; j < N; j++) {\n",
        "            a[i][j] = 1;\n",
        "        }\n",
        "    }\n",
        "\n",
        "    std::cout << \"Матрица А:\" << std::endl;\n",
        "    for (i = 0; i < N; i++) {\n",
        "        for (j = 0; j < N; j++)\n",
        "            std::cout << a[i][j] << \"  \";\n",
        "        std::cout << \"\\n\";\n",
        "    }\n",
        "\n",
        "    std::cout << \"\\nВектор b:\" << std::endl;\n",
        "    for (i = 0; i < N; i++)\n",
        "        std::cout << b[i] << \"  \";\n",
        "\n",
        "    std::cout << \"\\n\";\n",
        "\n",
        "    #pragma omp parallel shared(a, b, c) private(i, j, num_threads, p, n)\n",
        "    {\n",
        "        num_threads = omp_get_num_threads();\n",
        "        p = omp_get_thread_num();\n",
        "        n = N/num_threads;\n",
        "\n",
        "        for (i = n*p; i < n*(p+1); i++) {\n",
        "            c[i] = 0.0;\n",
        "            for (j = 0; j < N; j++) {\n",
        "                c[i] += a[i][j]*b[j];\n",
        "            }\n",
        "        }\n",
        "    }\n",
        "\n",
        "    std::cout << \"\\nРезультирующий вектор с:\" << std::endl;\n",
        "    for(i = 0; i < N; i++)\n",
        "        std::cout << c[i] << \"  \";\n",
        "\n",
        "    return 0;\n",
        "}"
      ],
      "metadata": {
        "colab": {
          "base_uri": "https://localhost:8080/"
        },
        "id": "nNUXRbSfGgBH",
        "outputId": "911aad67-63ef-45c2-a49f-a2e9fbb65414"
      },
      "execution_count": 19,
      "outputs": [
        {
          "output_type": "stream",
          "name": "stdout",
          "text": [
            "Writing lab_1_task2.cpp\n"
          ]
        }
      ]
    },
    {
      "cell_type": "code",
      "source": [
        "!g++ lab_1_task2.cpp -fopenmp -o lab_1_task2"
      ],
      "metadata": {
        "id": "BLa772v_GjdU"
      },
      "execution_count": 20,
      "outputs": []
    },
    {
      "cell_type": "code",
      "source": [
        "!./lab_1_task2"
      ],
      "metadata": {
        "colab": {
          "base_uri": "https://localhost:8080/"
        },
        "id": "C8VltNBlGljl",
        "outputId": "3108f51c-b0f9-4732-ab9a-01de952ba9d6"
      },
      "execution_count": 21,
      "outputs": [
        {
          "output_type": "stream",
          "name": "stdout",
          "text": [
            "Матрица А:\n",
            "1  1  1  1  1  1  1  1  1  1  1  1  1  1  1  1  1  1  1  1  1  1  1  1  1  1  1  1  1  1  \n",
            "1  1  1  1  1  1  1  1  1  1  1  1  1  1  1  1  1  1  1  1  1  1  1  1  1  1  1  1  1  1  \n",
            "1  1  1  1  1  1  1  1  1  1  1  1  1  1  1  1  1  1  1  1  1  1  1  1  1  1  1  1  1  1  \n",
            "1  1  1  1  1  1  1  1  1  1  1  1  1  1  1  1  1  1  1  1  1  1  1  1  1  1  1  1  1  1  \n",
            "1  1  1  1  1  1  1  1  1  1  1  1  1  1  1  1  1  1  1  1  1  1  1  1  1  1  1  1  1  1  \n",
            "1  1  1  1  1  1  1  1  1  1  1  1  1  1  1  1  1  1  1  1  1  1  1  1  1  1  1  1  1  1  \n",
            "1  1  1  1  1  1  1  1  1  1  1  1  1  1  1  1  1  1  1  1  1  1  1  1  1  1  1  1  1  1  \n",
            "1  1  1  1  1  1  1  1  1  1  1  1  1  1  1  1  1  1  1  1  1  1  1  1  1  1  1  1  1  1  \n",
            "1  1  1  1  1  1  1  1  1  1  1  1  1  1  1  1  1  1  1  1  1  1  1  1  1  1  1  1  1  1  \n",
            "1  1  1  1  1  1  1  1  1  1  1  1  1  1  1  1  1  1  1  1  1  1  1  1  1  1  1  1  1  1  \n",
            "1  1  1  1  1  1  1  1  1  1  1  1  1  1  1  1  1  1  1  1  1  1  1  1  1  1  1  1  1  1  \n",
            "1  1  1  1  1  1  1  1  1  1  1  1  1  1  1  1  1  1  1  1  1  1  1  1  1  1  1  1  1  1  \n",
            "1  1  1  1  1  1  1  1  1  1  1  1  1  1  1  1  1  1  1  1  1  1  1  1  1  1  1  1  1  1  \n",
            "1  1  1  1  1  1  1  1  1  1  1  1  1  1  1  1  1  1  1  1  1  1  1  1  1  1  1  1  1  1  \n",
            "1  1  1  1  1  1  1  1  1  1  1  1  1  1  1  1  1  1  1  1  1  1  1  1  1  1  1  1  1  1  \n",
            "1  1  1  1  1  1  1  1  1  1  1  1  1  1  1  1  1  1  1  1  1  1  1  1  1  1  1  1  1  1  \n",
            "1  1  1  1  1  1  1  1  1  1  1  1  1  1  1  1  1  1  1  1  1  1  1  1  1  1  1  1  1  1  \n",
            "1  1  1  1  1  1  1  1  1  1  1  1  1  1  1  1  1  1  1  1  1  1  1  1  1  1  1  1  1  1  \n",
            "1  1  1  1  1  1  1  1  1  1  1  1  1  1  1  1  1  1  1  1  1  1  1  1  1  1  1  1  1  1  \n",
            "1  1  1  1  1  1  1  1  1  1  1  1  1  1  1  1  1  1  1  1  1  1  1  1  1  1  1  1  1  1  \n",
            "1  1  1  1  1  1  1  1  1  1  1  1  1  1  1  1  1  1  1  1  1  1  1  1  1  1  1  1  1  1  \n",
            "1  1  1  1  1  1  1  1  1  1  1  1  1  1  1  1  1  1  1  1  1  1  1  1  1  1  1  1  1  1  \n",
            "1  1  1  1  1  1  1  1  1  1  1  1  1  1  1  1  1  1  1  1  1  1  1  1  1  1  1  1  1  1  \n",
            "1  1  1  1  1  1  1  1  1  1  1  1  1  1  1  1  1  1  1  1  1  1  1  1  1  1  1  1  1  1  \n",
            "1  1  1  1  1  1  1  1  1  1  1  1  1  1  1  1  1  1  1  1  1  1  1  1  1  1  1  1  1  1  \n",
            "1  1  1  1  1  1  1  1  1  1  1  1  1  1  1  1  1  1  1  1  1  1  1  1  1  1  1  1  1  1  \n",
            "1  1  1  1  1  1  1  1  1  1  1  1  1  1  1  1  1  1  1  1  1  1  1  1  1  1  1  1  1  1  \n",
            "1  1  1  1  1  1  1  1  1  1  1  1  1  1  1  1  1  1  1  1  1  1  1  1  1  1  1  1  1  1  \n",
            "1  1  1  1  1  1  1  1  1  1  1  1  1  1  1  1  1  1  1  1  1  1  1  1  1  1  1  1  1  1  \n",
            "1  1  1  1  1  1  1  1  1  1  1  1  1  1  1  1  1  1  1  1  1  1  1  1  1  1  1  1  1  1  \n",
            "\n",
            "Вектор b:\n",
            "1  1  1  1  1  1  1  1  1  1  1  1  1  1  1  1  1  1  1  1  1  1  1  1  1  1  1  1  1  1  \n",
            "\n",
            "Результирующий вектор с:\n",
            "30  30  30  30  30  30  30  30  30  30  30  30  30  30  30  30  30  30  30  30  30  30  30  30  30  30  30  30  30  30  "
          ]
        }
      ]
    },
    {
      "cell_type": "markdown",
      "source": [
        "Задание 3"
      ],
      "metadata": {
        "id": "EfmwOa7sGqUI"
      }
    },
    {
      "cell_type": "code",
      "source": [
        "%%file lab_1_task3.cpp\n",
        "\n",
        "#include <iostream>\n",
        "#include<omp.h>\n",
        "#include<stdio.h>\n",
        "\n",
        "const int N = 30;\n",
        "double **a, **b, **c;\n",
        "\n",
        "int main() {\n",
        "    int i, j, k, num_threads, p, n;\n",
        "\n",
        "    a = new double*[N];\n",
        "    b = new double*[N];\n",
        "    c = new double*[N];\n",
        "\n",
        "    for (i = 0; i < N; i++) {\n",
        "        a[i] = new double[N];\n",
        "        b[i] = new double[N];\n",
        "        c[i] = new double[N];\n",
        "        for (j = 0; j < N; j++) {\n",
        "            a[i][j] = 1;\n",
        "            b[i][j] = 2;\n",
        "        }\n",
        "    }\n",
        "\n",
        "    std::cout << \"Матрица А:\" << std::endl;\n",
        "    for (i = 0; i < N; i++) {\n",
        "        for (j = 0; j < N; j++)\n",
        "            std::cout << a[i][j] << \"  \";\n",
        "        std::cout << \"\\n\";\n",
        "    }\n",
        "\n",
        "    std::cout << \"\\nМатрица B:\" << std::endl;\n",
        "    for (i = 0; i < N; i++) {\n",
        "        for (j = 0; j < N; j++)\n",
        "            std::cout << b[i][j] << \"  \";\n",
        "        std::cout << \"\\n\";\n",
        "    }\n",
        "\n",
        "    std::cout << \"\\n\";\n",
        "\n",
        "    #pragma omp parallel shared(a, b, c) private(i, j, k, num_threads, p, n)\n",
        "    {\n",
        "        num_threads = omp_get_num_threads();\n",
        "        p = omp_get_thread_num();\n",
        "        n = N/num_threads;\n",
        "\n",
        "        for (i = p*n; i < n*(p+1); i++) {\n",
        "            for (j = 0; j < N; j++) {\n",
        "                c[i][j] = 0.0;\n",
        "                for(k = 0; k < N; k++){\n",
        "                    c[i][j] += a[i][k]*b[k][j];\n",
        "                }\n",
        "            }\n",
        "        }\n",
        "    }\n",
        "\n",
        "    std::cout << \"\\nРезультирующая матрица С:\" << std::endl;\n",
        "    for (i = 0; i < N; i++) {\n",
        "        for (j = 0; j < N; j++)\n",
        "            std::cout << c[i][j] << \"  \";\n",
        "        std::cout << \"\\n\";\n",
        "    }\n",
        "\n",
        "    return 0;\n",
        "}"
      ],
      "metadata": {
        "colab": {
          "base_uri": "https://localhost:8080/"
        },
        "id": "TZ0Pryi3GuLh",
        "outputId": "a6acc9b0-57d0-4b6b-e838-130d80cbfba5"
      },
      "execution_count": 22,
      "outputs": [
        {
          "output_type": "stream",
          "name": "stdout",
          "text": [
            "Writing lab_1_task3.cpp\n"
          ]
        }
      ]
    },
    {
      "cell_type": "code",
      "source": [
        "!g++ lab_1_task3.cpp -fopenmp -o lab_1_task3"
      ],
      "metadata": {
        "id": "hdUiZ0njGzSf"
      },
      "execution_count": 23,
      "outputs": []
    },
    {
      "cell_type": "code",
      "source": [
        "!./lab_1_task3"
      ],
      "metadata": {
        "colab": {
          "base_uri": "https://localhost:8080/"
        },
        "id": "SGRGoVGcG2rJ",
        "outputId": "09eea1dc-29eb-4eaa-f3e6-56d477ef0e94"
      },
      "execution_count": 24,
      "outputs": [
        {
          "output_type": "stream",
          "name": "stdout",
          "text": [
            "Матрица А:\n",
            "1  1  1  1  1  1  1  1  1  1  1  1  1  1  1  1  1  1  1  1  1  1  1  1  1  1  1  1  1  1  \n",
            "1  1  1  1  1  1  1  1  1  1  1  1  1  1  1  1  1  1  1  1  1  1  1  1  1  1  1  1  1  1  \n",
            "1  1  1  1  1  1  1  1  1  1  1  1  1  1  1  1  1  1  1  1  1  1  1  1  1  1  1  1  1  1  \n",
            "1  1  1  1  1  1  1  1  1  1  1  1  1  1  1  1  1  1  1  1  1  1  1  1  1  1  1  1  1  1  \n",
            "1  1  1  1  1  1  1  1  1  1  1  1  1  1  1  1  1  1  1  1  1  1  1  1  1  1  1  1  1  1  \n",
            "1  1  1  1  1  1  1  1  1  1  1  1  1  1  1  1  1  1  1  1  1  1  1  1  1  1  1  1  1  1  \n",
            "1  1  1  1  1  1  1  1  1  1  1  1  1  1  1  1  1  1  1  1  1  1  1  1  1  1  1  1  1  1  \n",
            "1  1  1  1  1  1  1  1  1  1  1  1  1  1  1  1  1  1  1  1  1  1  1  1  1  1  1  1  1  1  \n",
            "1  1  1  1  1  1  1  1  1  1  1  1  1  1  1  1  1  1  1  1  1  1  1  1  1  1  1  1  1  1  \n",
            "1  1  1  1  1  1  1  1  1  1  1  1  1  1  1  1  1  1  1  1  1  1  1  1  1  1  1  1  1  1  \n",
            "1  1  1  1  1  1  1  1  1  1  1  1  1  1  1  1  1  1  1  1  1  1  1  1  1  1  1  1  1  1  \n",
            "1  1  1  1  1  1  1  1  1  1  1  1  1  1  1  1  1  1  1  1  1  1  1  1  1  1  1  1  1  1  \n",
            "1  1  1  1  1  1  1  1  1  1  1  1  1  1  1  1  1  1  1  1  1  1  1  1  1  1  1  1  1  1  \n",
            "1  1  1  1  1  1  1  1  1  1  1  1  1  1  1  1  1  1  1  1  1  1  1  1  1  1  1  1  1  1  \n",
            "1  1  1  1  1  1  1  1  1  1  1  1  1  1  1  1  1  1  1  1  1  1  1  1  1  1  1  1  1  1  \n",
            "1  1  1  1  1  1  1  1  1  1  1  1  1  1  1  1  1  1  1  1  1  1  1  1  1  1  1  1  1  1  \n",
            "1  1  1  1  1  1  1  1  1  1  1  1  1  1  1  1  1  1  1  1  1  1  1  1  1  1  1  1  1  1  \n",
            "1  1  1  1  1  1  1  1  1  1  1  1  1  1  1  1  1  1  1  1  1  1  1  1  1  1  1  1  1  1  \n",
            "1  1  1  1  1  1  1  1  1  1  1  1  1  1  1  1  1  1  1  1  1  1  1  1  1  1  1  1  1  1  \n",
            "1  1  1  1  1  1  1  1  1  1  1  1  1  1  1  1  1  1  1  1  1  1  1  1  1  1  1  1  1  1  \n",
            "1  1  1  1  1  1  1  1  1  1  1  1  1  1  1  1  1  1  1  1  1  1  1  1  1  1  1  1  1  1  \n",
            "1  1  1  1  1  1  1  1  1  1  1  1  1  1  1  1  1  1  1  1  1  1  1  1  1  1  1  1  1  1  \n",
            "1  1  1  1  1  1  1  1  1  1  1  1  1  1  1  1  1  1  1  1  1  1  1  1  1  1  1  1  1  1  \n",
            "1  1  1  1  1  1  1  1  1  1  1  1  1  1  1  1  1  1  1  1  1  1  1  1  1  1  1  1  1  1  \n",
            "1  1  1  1  1  1  1  1  1  1  1  1  1  1  1  1  1  1  1  1  1  1  1  1  1  1  1  1  1  1  \n",
            "1  1  1  1  1  1  1  1  1  1  1  1  1  1  1  1  1  1  1  1  1  1  1  1  1  1  1  1  1  1  \n",
            "1  1  1  1  1  1  1  1  1  1  1  1  1  1  1  1  1  1  1  1  1  1  1  1  1  1  1  1  1  1  \n",
            "1  1  1  1  1  1  1  1  1  1  1  1  1  1  1  1  1  1  1  1  1  1  1  1  1  1  1  1  1  1  \n",
            "1  1  1  1  1  1  1  1  1  1  1  1  1  1  1  1  1  1  1  1  1  1  1  1  1  1  1  1  1  1  \n",
            "1  1  1  1  1  1  1  1  1  1  1  1  1  1  1  1  1  1  1  1  1  1  1  1  1  1  1  1  1  1  \n",
            "\n",
            "Матрица B:\n",
            "2  2  2  2  2  2  2  2  2  2  2  2  2  2  2  2  2  2  2  2  2  2  2  2  2  2  2  2  2  2  \n",
            "2  2  2  2  2  2  2  2  2  2  2  2  2  2  2  2  2  2  2  2  2  2  2  2  2  2  2  2  2  2  \n",
            "2  2  2  2  2  2  2  2  2  2  2  2  2  2  2  2  2  2  2  2  2  2  2  2  2  2  2  2  2  2  \n",
            "2  2  2  2  2  2  2  2  2  2  2  2  2  2  2  2  2  2  2  2  2  2  2  2  2  2  2  2  2  2  \n",
            "2  2  2  2  2  2  2  2  2  2  2  2  2  2  2  2  2  2  2  2  2  2  2  2  2  2  2  2  2  2  \n",
            "2  2  2  2  2  2  2  2  2  2  2  2  2  2  2  2  2  2  2  2  2  2  2  2  2  2  2  2  2  2  \n",
            "2  2  2  2  2  2  2  2  2  2  2  2  2  2  2  2  2  2  2  2  2  2  2  2  2  2  2  2  2  2  \n",
            "2  2  2  2  2  2  2  2  2  2  2  2  2  2  2  2  2  2  2  2  2  2  2  2  2  2  2  2  2  2  \n",
            "2  2  2  2  2  2  2  2  2  2  2  2  2  2  2  2  2  2  2  2  2  2  2  2  2  2  2  2  2  2  \n",
            "2  2  2  2  2  2  2  2  2  2  2  2  2  2  2  2  2  2  2  2  2  2  2  2  2  2  2  2  2  2  \n",
            "2  2  2  2  2  2  2  2  2  2  2  2  2  2  2  2  2  2  2  2  2  2  2  2  2  2  2  2  2  2  \n",
            "2  2  2  2  2  2  2  2  2  2  2  2  2  2  2  2  2  2  2  2  2  2  2  2  2  2  2  2  2  2  \n",
            "2  2  2  2  2  2  2  2  2  2  2  2  2  2  2  2  2  2  2  2  2  2  2  2  2  2  2  2  2  2  \n",
            "2  2  2  2  2  2  2  2  2  2  2  2  2  2  2  2  2  2  2  2  2  2  2  2  2  2  2  2  2  2  \n",
            "2  2  2  2  2  2  2  2  2  2  2  2  2  2  2  2  2  2  2  2  2  2  2  2  2  2  2  2  2  2  \n",
            "2  2  2  2  2  2  2  2  2  2  2  2  2  2  2  2  2  2  2  2  2  2  2  2  2  2  2  2  2  2  \n",
            "2  2  2  2  2  2  2  2  2  2  2  2  2  2  2  2  2  2  2  2  2  2  2  2  2  2  2  2  2  2  \n",
            "2  2  2  2  2  2  2  2  2  2  2  2  2  2  2  2  2  2  2  2  2  2  2  2  2  2  2  2  2  2  \n",
            "2  2  2  2  2  2  2  2  2  2  2  2  2  2  2  2  2  2  2  2  2  2  2  2  2  2  2  2  2  2  \n",
            "2  2  2  2  2  2  2  2  2  2  2  2  2  2  2  2  2  2  2  2  2  2  2  2  2  2  2  2  2  2  \n",
            "2  2  2  2  2  2  2  2  2  2  2  2  2  2  2  2  2  2  2  2  2  2  2  2  2  2  2  2  2  2  \n",
            "2  2  2  2  2  2  2  2  2  2  2  2  2  2  2  2  2  2  2  2  2  2  2  2  2  2  2  2  2  2  \n",
            "2  2  2  2  2  2  2  2  2  2  2  2  2  2  2  2  2  2  2  2  2  2  2  2  2  2  2  2  2  2  \n",
            "2  2  2  2  2  2  2  2  2  2  2  2  2  2  2  2  2  2  2  2  2  2  2  2  2  2  2  2  2  2  \n",
            "2  2  2  2  2  2  2  2  2  2  2  2  2  2  2  2  2  2  2  2  2  2  2  2  2  2  2  2  2  2  \n",
            "2  2  2  2  2  2  2  2  2  2  2  2  2  2  2  2  2  2  2  2  2  2  2  2  2  2  2  2  2  2  \n",
            "2  2  2  2  2  2  2  2  2  2  2  2  2  2  2  2  2  2  2  2  2  2  2  2  2  2  2  2  2  2  \n",
            "2  2  2  2  2  2  2  2  2  2  2  2  2  2  2  2  2  2  2  2  2  2  2  2  2  2  2  2  2  2  \n",
            "2  2  2  2  2  2  2  2  2  2  2  2  2  2  2  2  2  2  2  2  2  2  2  2  2  2  2  2  2  2  \n",
            "2  2  2  2  2  2  2  2  2  2  2  2  2  2  2  2  2  2  2  2  2  2  2  2  2  2  2  2  2  2  \n",
            "\n",
            "\n",
            "Результирующая матрица С:\n",
            "60  60  60  60  60  60  60  60  60  60  60  60  60  60  60  60  60  60  60  60  60  60  60  60  60  60  60  60  60  60  \n",
            "60  60  60  60  60  60  60  60  60  60  60  60  60  60  60  60  60  60  60  60  60  60  60  60  60  60  60  60  60  60  \n",
            "60  60  60  60  60  60  60  60  60  60  60  60  60  60  60  60  60  60  60  60  60  60  60  60  60  60  60  60  60  60  \n",
            "60  60  60  60  60  60  60  60  60  60  60  60  60  60  60  60  60  60  60  60  60  60  60  60  60  60  60  60  60  60  \n",
            "60  60  60  60  60  60  60  60  60  60  60  60  60  60  60  60  60  60  60  60  60  60  60  60  60  60  60  60  60  60  \n",
            "60  60  60  60  60  60  60  60  60  60  60  60  60  60  60  60  60  60  60  60  60  60  60  60  60  60  60  60  60  60  \n",
            "60  60  60  60  60  60  60  60  60  60  60  60  60  60  60  60  60  60  60  60  60  60  60  60  60  60  60  60  60  60  \n",
            "60  60  60  60  60  60  60  60  60  60  60  60  60  60  60  60  60  60  60  60  60  60  60  60  60  60  60  60  60  60  \n",
            "60  60  60  60  60  60  60  60  60  60  60  60  60  60  60  60  60  60  60  60  60  60  60  60  60  60  60  60  60  60  \n",
            "60  60  60  60  60  60  60  60  60  60  60  60  60  60  60  60  60  60  60  60  60  60  60  60  60  60  60  60  60  60  \n",
            "60  60  60  60  60  60  60  60  60  60  60  60  60  60  60  60  60  60  60  60  60  60  60  60  60  60  60  60  60  60  \n",
            "60  60  60  60  60  60  60  60  60  60  60  60  60  60  60  60  60  60  60  60  60  60  60  60  60  60  60  60  60  60  \n",
            "60  60  60  60  60  60  60  60  60  60  60  60  60  60  60  60  60  60  60  60  60  60  60  60  60  60  60  60  60  60  \n",
            "60  60  60  60  60  60  60  60  60  60  60  60  60  60  60  60  60  60  60  60  60  60  60  60  60  60  60  60  60  60  \n",
            "60  60  60  60  60  60  60  60  60  60  60  60  60  60  60  60  60  60  60  60  60  60  60  60  60  60  60  60  60  60  \n",
            "60  60  60  60  60  60  60  60  60  60  60  60  60  60  60  60  60  60  60  60  60  60  60  60  60  60  60  60  60  60  \n",
            "60  60  60  60  60  60  60  60  60  60  60  60  60  60  60  60  60  60  60  60  60  60  60  60  60  60  60  60  60  60  \n",
            "60  60  60  60  60  60  60  60  60  60  60  60  60  60  60  60  60  60  60  60  60  60  60  60  60  60  60  60  60  60  \n",
            "60  60  60  60  60  60  60  60  60  60  60  60  60  60  60  60  60  60  60  60  60  60  60  60  60  60  60  60  60  60  \n",
            "60  60  60  60  60  60  60  60  60  60  60  60  60  60  60  60  60  60  60  60  60  60  60  60  60  60  60  60  60  60  \n",
            "60  60  60  60  60  60  60  60  60  60  60  60  60  60  60  60  60  60  60  60  60  60  60  60  60  60  60  60  60  60  \n",
            "60  60  60  60  60  60  60  60  60  60  60  60  60  60  60  60  60  60  60  60  60  60  60  60  60  60  60  60  60  60  \n",
            "60  60  60  60  60  60  60  60  60  60  60  60  60  60  60  60  60  60  60  60  60  60  60  60  60  60  60  60  60  60  \n",
            "60  60  60  60  60  60  60  60  60  60  60  60  60  60  60  60  60  60  60  60  60  60  60  60  60  60  60  60  60  60  \n",
            "60  60  60  60  60  60  60  60  60  60  60  60  60  60  60  60  60  60  60  60  60  60  60  60  60  60  60  60  60  60  \n",
            "60  60  60  60  60  60  60  60  60  60  60  60  60  60  60  60  60  60  60  60  60  60  60  60  60  60  60  60  60  60  \n",
            "60  60  60  60  60  60  60  60  60  60  60  60  60  60  60  60  60  60  60  60  60  60  60  60  60  60  60  60  60  60  \n",
            "60  60  60  60  60  60  60  60  60  60  60  60  60  60  60  60  60  60  60  60  60  60  60  60  60  60  60  60  60  60  \n",
            "60  60  60  60  60  60  60  60  60  60  60  60  60  60  60  60  60  60  60  60  60  60  60  60  60  60  60  60  60  60  \n",
            "60  60  60  60  60  60  60  60  60  60  60  60  60  60  60  60  60  60  60  60  60  60  60  60  60  60  60  60  60  60  \n"
          ]
        }
      ]
    }
  ]
}