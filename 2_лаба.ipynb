{
  "nbformat": 4,
  "nbformat_minor": 0,
  "metadata": {
    "colab": {
      "provenance": [],
      "include_colab_link": true
    },
    "kernelspec": {
      "name": "python3",
      "display_name": "Python 3"
    },
    "language_info": {
      "name": "python"
    }
  },
  "cells": [
    {
      "cell_type": "markdown",
      "metadata": {
        "id": "view-in-github",
        "colab_type": "text"
      },
      "source": [
        "<a href=\"https://colab.research.google.com/github/MPrealy/302_OOP_Morozov_PS/blob/master/2_%D0%BB%D0%B0%D0%B1%D0%B0.ipynb\" target=\"_parent\"><img src=\"https://colab.research.google.com/assets/colab-badge.svg\" alt=\"Open In Colab\"/></a>"
      ]
    },
    {
      "cell_type": "code",
      "execution_count": 1,
      "metadata": {
        "colab": {
          "base_uri": "https://localhost:8080/"
        },
        "id": "aaow0xXuPIf_",
        "outputId": "032b4909-6249-4dd4-c5e5-0f9a3fe74fd5"
      },
      "outputs": [
        {
          "output_type": "stream",
          "name": "stdout",
          "text": [
            "Mounted at /content/drive\n"
          ]
        }
      ],
      "source": [
        "from google.colab import drive\n",
        "drive.mount('/content/drive')"
      ]
    },
    {
      "cell_type": "code",
      "source": [
        "cd /content/drive/MyDrive/Colab Notebooks"
      ],
      "metadata": {
        "colab": {
          "base_uri": "https://localhost:8080/"
        },
        "id": "wRxpq0dIPdU1",
        "outputId": "bb143b11-55ff-44f6-85ad-e47adb5e2af8"
      },
      "execution_count": 2,
      "outputs": [
        {
          "output_type": "stream",
          "name": "stdout",
          "text": [
            "/content/drive/MyDrive/Colab Notebooks\n"
          ]
        }
      ]
    },
    {
      "cell_type": "markdown",
      "source": [
        "Задание 1"
      ],
      "metadata": {
        "id": "OMVhkOeYPf5T"
      }
    },
    {
      "cell_type": "markdown",
      "source": [
        "1.1"
      ],
      "metadata": {
        "id": "r-DDfMccPlmU"
      }
    },
    {
      "cell_type": "code",
      "source": [
        "%%file primer1_lab2.cpp\n",
        "\n",
        "#include<stdio.h>\n",
        "#include<mpi.h>\n",
        "\n",
        "int main(int argc, char **argv) {\n",
        "    int size, rank;\n",
        "    MPI_Init(&argc, &argv);\n",
        "    MPI_Comm_size(MPI_COMM_WORLD, &size);\n",
        "    MPI_Comm_rank(MPI_COMM_WORLD, &rank);\n",
        "    printf(\"SIZE = %d   RANK = %d\\n\",size,rank);\n",
        "    MPI_Finalize();\n",
        "    return(0);\n",
        "}"
      ],
      "metadata": {
        "colab": {
          "base_uri": "https://localhost:8080/"
        },
        "id": "rJtEk3AnPfKU",
        "outputId": "0d6cc72c-affd-4b11-96c5-253625914a4b"
      },
      "execution_count": 3,
      "outputs": [
        {
          "output_type": "stream",
          "name": "stdout",
          "text": [
            "Writing primer1_lab2.cpp\n"
          ]
        }
      ]
    },
    {
      "cell_type": "code",
      "source": [
        "!mpic++ primer1_lab2.cpp -o primer1_lab2"
      ],
      "metadata": {
        "id": "IwRWEZm-Pq7v"
      },
      "execution_count": 4,
      "outputs": []
    },
    {
      "cell_type": "code",
      "source": [
        "!mpirun --allow-run-as-root --oversubscribe -n 4 ./primer1_lab2\n",
        "!echo\n",
        "!mpirun --allow-run-as-root --oversubscribe -n 8 ./primer1_lab2"
      ],
      "metadata": {
        "colab": {
          "base_uri": "https://localhost:8080/"
        },
        "id": "Bn5-kLS6Pt-z",
        "outputId": "338272cd-1235-4607-bc59-e570e868e99b"
      },
      "execution_count": 5,
      "outputs": [
        {
          "output_type": "stream",
          "name": "stdout",
          "text": [
            "SIZE = 4   RANK = 1\n",
            "SIZE = 4   RANK = 0\n",
            "SIZE = 4   RANK = 3\n",
            "SIZE = 4   RANK = 2\n",
            "\n",
            "SIZE = 8   RANK = 3\n",
            "SIZE = 8   RANK = 5\n",
            "SIZE = 8   RANK = 1\n",
            "SIZE = 8   RANK = 2\n",
            "SIZE = 8   RANK = 6\n",
            "SIZE = 8   RANK = 0\n",
            "SIZE = 8   RANK = 7\n",
            "SIZE = 8   RANK = 4\n"
          ]
        }
      ]
    },
    {
      "cell_type": "markdown",
      "source": [
        "1.2"
      ],
      "metadata": {
        "id": "e_UhMVp9QJZc"
      }
    },
    {
      "cell_type": "code",
      "source": [
        "%%file primer2_lab2.cpp\n",
        "\n",
        "#include<stdio.h>\n",
        "#include<mpi.h>\n",
        "\n",
        "int main(int argc, char **argv) {\n",
        "    int size, rank, a,b;\n",
        "    MPI_Status st;\n",
        "    MPI_Init(&argc, &argv);\n",
        "    MPI_Comm_size(MPI_COMM_WORLD, &size);\n",
        "    MPI_Comm_rank(MPI_COMM_WORLD, &rank);\n",
        "\n",
        "    if(rank == 0) {\n",
        "        a = 10;\n",
        "        MPI_Send(&a,1,MPI_INT,3,15,MPI_COMM_WORLD);\n",
        "    }\n",
        "    else {\n",
        "        if(rank == 3) {\n",
        "            MPI_Recv(&b,1,MPI_INT,0,15,MPI_COMM_WORLD,&st);\n",
        "            printf(\"Vetv = %d   b = %d\\n\",rank,b);\n",
        "        }\n",
        "    }\n",
        "\n",
        "    MPI_Finalize();\n",
        "    return(0);\n",
        "}"
      ],
      "metadata": {
        "colab": {
          "base_uri": "https://localhost:8080/"
        },
        "id": "VZa9H-NHQK2-",
        "outputId": "07d59b94-6b43-4a4d-9100-53386445800a"
      },
      "execution_count": 6,
      "outputs": [
        {
          "output_type": "stream",
          "name": "stdout",
          "text": [
            "Writing primer2_lab2.cpp\n"
          ]
        }
      ]
    },
    {
      "cell_type": "code",
      "source": [
        "!mpic++ primer2_lab2.cpp -o primer2_lab2"
      ],
      "metadata": {
        "id": "of16ycIHQQVI"
      },
      "execution_count": 7,
      "outputs": []
    },
    {
      "cell_type": "code",
      "source": [
        "!mpirun --allow-run-as-root --oversubscribe -n 4 ./primer2_lab2"
      ],
      "metadata": {
        "colab": {
          "base_uri": "https://localhost:8080/"
        },
        "id": "c6VvyNXhQRL1",
        "outputId": "badd64cb-3e61-4561-d384-725cd85402b3"
      },
      "execution_count": 8,
      "outputs": [
        {
          "output_type": "stream",
          "name": "stdout",
          "text": [
            "Vetv = 3   b = 10\n"
          ]
        }
      ]
    },
    {
      "cell_type": "markdown",
      "source": [
        "1.3"
      ],
      "metadata": {
        "id": "9z8YrDE3Qafs"
      }
    },
    {
      "cell_type": "code",
      "source": [
        "%%file primer3_lab2.cpp\n",
        "\n",
        "#include<stdio.h>\n",
        "#include<mpi.h>\n",
        "\n",
        "int main(int argc, char **argv) {\n",
        "    int size, rank, a, b;\n",
        "    MPI_Status st;\n",
        "    MPI_Init(&argc, &argv);\n",
        "    MPI_Comm_size(MPI_COMM_WORLD, &size);\n",
        "    MPI_Comm_rank(MPI_COMM_WORLD, &rank);\n",
        "\n",
        "    if(rank == 0) {\n",
        "        a = 10;\n",
        "        MPI_Send(&a,1,MPI_INT,size-1,15,MPI_COMM_WORLD);\n",
        "    }\n",
        "    else {\n",
        "        if(rank == size-1) {\n",
        "            MPI_Recv(&b,1,MPI_INT,0,15,MPI_COMM_WORLD,&st);\n",
        "            printf(\"Vetv = %d   b = %d\\n\",rank,b);\n",
        "        }\n",
        "    }\n",
        "\n",
        "    MPI_Finalize();\n",
        "    return(0);\n",
        " }"
      ],
      "metadata": {
        "colab": {
          "base_uri": "https://localhost:8080/"
        },
        "id": "7tyU3eECQbcf",
        "outputId": "dcb9a0f1-6cac-4560-88a1-6a5864183561"
      },
      "execution_count": 9,
      "outputs": [
        {
          "output_type": "stream",
          "name": "stdout",
          "text": [
            "Writing primer3_lab2.cpp\n"
          ]
        }
      ]
    },
    {
      "cell_type": "code",
      "source": [
        "!mpic++ primer3_lab2.cpp -o primer3_lab2"
      ],
      "metadata": {
        "id": "qtSHziA6QgAJ"
      },
      "execution_count": 10,
      "outputs": []
    },
    {
      "cell_type": "code",
      "source": [
        "!mpirun --allow-run-as-root --oversubscribe -n 4 ./primer3_lab2\n",
        "!echo\n",
        "!mpirun --allow-run-as-root --oversubscribe -n 8 ./primer3_lab2"
      ],
      "metadata": {
        "colab": {
          "base_uri": "https://localhost:8080/"
        },
        "id": "w89Rrf_wQh7u",
        "outputId": "15475c10-72f9-48a8-905c-cf48aededcfb"
      },
      "execution_count": 11,
      "outputs": [
        {
          "output_type": "stream",
          "name": "stdout",
          "text": [
            "Vetv = 3   b = 10\n",
            "\n",
            "Vetv = 7   b = 10\n"
          ]
        }
      ]
    },
    {
      "cell_type": "markdown",
      "source": [
        "1.4"
      ],
      "metadata": {
        "id": "dL8E1_FAQnUu"
      }
    },
    {
      "cell_type": "code",
      "source": [
        "%%file primer4_1_lab2.cpp\n",
        "\n",
        "#include<stdio.h>\n",
        "#include<mpi.h>\n",
        "\n",
        "int main(int argc, char **argv) {\n",
        "    int size, rank, a;\n",
        "    MPI_Init(&argc, &argv);\n",
        "    MPI_Comm_size(MPI_COMM_WORLD, &size);\n",
        "    MPI_Comm_rank(MPI_COMM_WORLD, &rank);\n",
        "\n",
        "    if(rank == 0) {\n",
        "        a = 10;\n",
        "        MPI_Bcast(&a,1,MPI_INT,0,MPI_COMM_WORLD);\n",
        "    }\n",
        "    else {\n",
        "        MPI_Bcast(&a,1,MPI_INT,0,MPI_COMM_WORLD);\n",
        "        printf(\"Vetv = %d   a = %d\\n\",rank,a);\n",
        "    }\n",
        "\n",
        "    MPI_Finalize();\n",
        "    return(0);\n",
        " }"
      ],
      "metadata": {
        "colab": {
          "base_uri": "https://localhost:8080/"
        },
        "id": "E_8ABKIcQoVq",
        "outputId": "678c4160-db1d-4878-d7d5-65684dae740b"
      },
      "execution_count": 12,
      "outputs": [
        {
          "output_type": "stream",
          "name": "stdout",
          "text": [
            "Writing primer4_1_lab2.cpp\n"
          ]
        }
      ]
    },
    {
      "cell_type": "code",
      "source": [
        "!mpic++ primer4_1_lab2.cpp -o primer4_1_lab2"
      ],
      "metadata": {
        "id": "55Lynk2TQs6t"
      },
      "execution_count": 13,
      "outputs": []
    },
    {
      "cell_type": "code",
      "source": [
        "!mpirun --allow-run-as-root --oversubscribe -n 4 ./primer4_1_lab2\n",
        "!echo\n",
        "!mpirun --allow-run-as-root --oversubscribe -n 8 ./primer4_1_lab2"
      ],
      "metadata": {
        "colab": {
          "base_uri": "https://localhost:8080/"
        },
        "id": "AgY2tothQvP8",
        "outputId": "7c1398a7-7839-440e-c51b-c9ed6c08bbf1"
      },
      "execution_count": 14,
      "outputs": [
        {
          "output_type": "stream",
          "name": "stdout",
          "text": [
            "Vetv = 2   a = 10\n",
            "Vetv = 1   a = 10\n",
            "Vetv = 3   a = 10\n",
            "\n",
            "Vetv = 4   a = 10\n",
            "Vetv = 5   a = 10\n",
            "Vetv = 7   a = 10\n",
            "Vetv = 6   a = 10\n",
            "Vetv = 2   a = 10\n",
            "Vetv = 1   a = 10\n",
            "Vetv = 3   a = 10\n"
          ]
        }
      ]
    },
    {
      "cell_type": "markdown",
      "source": [
        "Задание 2"
      ],
      "metadata": {
        "id": "brcMYIInQ4sF"
      }
    },
    {
      "cell_type": "code",
      "source": [
        "%%file lab2_task2.cpp\n",
        "\n",
        "#include <iostream>\n",
        "#include \"mpi.h\"\n",
        "#include <cstring>\n",
        "\n",
        "int main(int argc, char **argv) {\n",
        "    int size, rank, a, content, content_;\n",
        "\n",
        "    MPI_Status st;\n",
        "    MPI_Init(&argc, &argv);\n",
        "    MPI_Comm_size(MPI_COMM_WORLD, &size);\n",
        "    MPI_Comm_rank(MPI_COMM_WORLD, &rank);\n",
        "\n",
        "    double time1, time2, dt;\n",
        "    time1 = MPI_Wtime();\n",
        "\n",
        "    for(int i = 0; i < size; i++) {\n",
        "        if((rank == i) && (i < (size-1))) {\n",
        "            content = 22;\n",
        "            MPI_Send(&content, 1, MPI_INT, i+1, 0, MPI_COMM_WORLD);\n",
        "        }\n",
        "        else {\n",
        "            if(rank == (i+1)) {\n",
        "                MPI_Recv(&content_, 1, MPI_INT, i, 0, MPI_COMM_WORLD, &st);\n",
        "                std::cout << \"iteration = \" << i << \"   Vetv = \" << rank << \";   sending \"<< content_ << std::endl;\n",
        "                content = content_;\n",
        "            }\n",
        "        }\n",
        "\n",
        "        if((i == (size-1)) && (rank == (size-1))) {\n",
        "            MPI_Send(&content, 1, MPI_INT, 0, 0, MPI_COMM_WORLD);\n",
        "        }\n",
        "    }\n",
        "\n",
        "    if(rank == 0) {\n",
        "        MPI_Recv(&content_, 1, MPI_INT, size-1, 0, MPI_COMM_WORLD, &st);\n",
        "        time2 = MPI_Wtime();\n",
        "        dt = time2 - time1;\n",
        "        std::cout << \"iteration = \" << size-1 << \"   Vetv = \" << rank << \";   sending \" << content_ << std::endl;\n",
        "        std::cout << \"\\ntime = \" << dt << std::endl;\n",
        "      }\n",
        "\n",
        "    MPI_Finalize();\n",
        "    return(0);\n",
        "}"
      ],
      "metadata": {
        "colab": {
          "base_uri": "https://localhost:8080/"
        },
        "id": "ZF2N_zTPQ-IA",
        "outputId": "cc70fdc7-8a72-4ce3-85b8-b0c995efeb99"
      },
      "execution_count": 15,
      "outputs": [
        {
          "output_type": "stream",
          "name": "stdout",
          "text": [
            "Writing lab2_task2.cpp\n"
          ]
        }
      ]
    },
    {
      "cell_type": "code",
      "source": [
        "!mpic++ lab2_task2.cpp -o lab2_task2"
      ],
      "metadata": {
        "id": "gkZHHmHCRCT4"
      },
      "execution_count": 16,
      "outputs": []
    },
    {
      "cell_type": "code",
      "source": [
        "!mpirun --allow-run-as-root --oversubscribe -n 7 ./lab2_task2"
      ],
      "metadata": {
        "colab": {
          "base_uri": "https://localhost:8080/"
        },
        "id": "zeJr8SquRD_v",
        "outputId": "df7df6a7-d181-44bc-8714-89ada2e97af6"
      },
      "execution_count": 17,
      "outputs": [
        {
          "output_type": "stream",
          "name": "stdout",
          "text": [
            "iteration = 0   Vetv = 1;   sending 22\n",
            "iteration = 1   Vetv = 2;   sending 22\n",
            "iteration = 2   Vetv = 3;   sending 22\n",
            "iteration = 3   Vetv = 4;   sending 22\n",
            "iteration = 4   Vetv = 5;   sending 22\n",
            "iteration = 5   Vetv = 6;   sending 22\n",
            "iteration = 6   Vetv = 0;   sending 22\n",
            "\n",
            "time = 0.00267584\n"
          ]
        }
      ]
    },
    {
      "cell_type": "markdown",
      "source": [
        "Задание 3"
      ],
      "metadata": {
        "id": "7owpCQ3SRGU8"
      }
    },
    {
      "cell_type": "code",
      "source": [
        "%%file lab2_task3.cpp\n",
        "\n",
        "#include <iostream>\n",
        "#include \"mpi.h\"\n",
        "#include <cstring>\n",
        "#include <ctime>\n",
        "\n",
        "double *c;\n",
        "\n",
        "int main(int argc, char **argv) {\n",
        "    int size, rank, i;\n",
        "    double a, content, content_;\n",
        "\n",
        "    srand(time(0));\n",
        "    MPI_Status st;\n",
        "    MPI_Init(&argc, &argv);\n",
        "    MPI_Comm_size(MPI_COMM_WORLD, &size);\n",
        "    MPI_Comm_rank(MPI_COMM_WORLD, &rank);\n",
        "\n",
        "    c = new double[size];\n",
        "    for(int i = 0; i < size; i++) {\n",
        "        c[i]=i;\n",
        "    }\n",
        "\n",
        "    if (rank == 0) {\n",
        "        for(int i = 1; i < size; i++) {\n",
        "            content = c[i];\n",
        "            MPI_Send(&content, 1, MPI_DOUBLE, i, 0, MPI_COMM_WORLD);\n",
        "        }\n",
        "\n",
        "        content=c[0];\n",
        "    }\n",
        "    else {\n",
        "        MPI_Recv(&content_, 1, MPI_DOUBLE, 0, 0, MPI_COMM_WORLD, &st);\n",
        "        content = content_;\n",
        "    }\n",
        "\n",
        "    double time1, time2, dt;\n",
        "    time1 = MPI_Wtime();\n",
        "\n",
        "    if(rank != (size-1)) {\n",
        "        MPI_Send(&content, 1, MPI_DOUBLE, rank+1, 0, MPI_COMM_WORLD);\n",
        "    }\n",
        "\n",
        "    if(rank != 0) {\n",
        "        MPI_Recv(&content_, 1, MPI_DOUBLE, rank-1, 0, MPI_COMM_WORLD, &st);\n",
        "        content = content_;\n",
        "    }\n",
        "\n",
        "    time2 = MPI_Wtime();\n",
        "    dt = time2 - time1;\n",
        "\n",
        "    std::cout << \"Vetv = \" << rank << \";   sending \" << content << std::endl;\n",
        "    if(rank == (size-1)) {\n",
        "        std::cout << \"\\ntime = \" << dt << \"\\n\" << std::endl;\n",
        "    }\n",
        "\n",
        "    MPI_Finalize();\n",
        "    return(0);\n",
        "}"
      ],
      "metadata": {
        "colab": {
          "base_uri": "https://localhost:8080/"
        },
        "id": "hgSX9m23RNmL",
        "outputId": "67bcd716-45ce-4b11-86fc-bd448c0d16e2"
      },
      "execution_count": 18,
      "outputs": [
        {
          "output_type": "stream",
          "name": "stdout",
          "text": [
            "Writing lab2_task3.cpp\n"
          ]
        }
      ]
    },
    {
      "cell_type": "code",
      "source": [
        "!mpic++ lab2_task3.cpp -o lab2_task3"
      ],
      "metadata": {
        "id": "uNiOE-4iRRuR"
      },
      "execution_count": 19,
      "outputs": []
    },
    {
      "cell_type": "code",
      "source": [
        "!mpirun --allow-run-as-root --oversubscribe -n 7 ./lab2_task3"
      ],
      "metadata": {
        "id": "9UtqtvtqRVbA",
        "outputId": "7a8c27c1-ccbd-4169-885c-d06ce7fddccb",
        "colab": {
          "base_uri": "https://localhost:8080/"
        }
      },
      "execution_count": 20,
      "outputs": [
        {
          "output_type": "stream",
          "name": "stdout",
          "text": [
            "Vetv = 0;   sending 0\n",
            "Vetv = 1;   sending 0\n",
            "Vetv = 2;   sending 1\n",
            "Vetv = 4;   sending 3\n",
            "Vetv = 3;   sending 2\n",
            "Vetv = 5;   sending 4\n",
            "Vetv = 6;   sending 5\n",
            "\n",
            "time = 0.00402658\n",
            "\n"
          ]
        }
      ]
    }
  ]
}